{
  "cells": [
    {
      "cell_type": "markdown",
      "metadata": {
        "id": "fbf80115-84c4-4d43-ab43-3b0a3ea1128d"
      },
      "source": [
        "<center>\n",
        "    <img src=\"https://cf-courses-data.s3.us.cloud-object-storage.appdomain.cloud/IBMDeveloperSkillsNetwork-PY0101EN-SkillsNetwork/IDSNlogo.png\" width=\"300\" alt=\"cognitiveclass.ai logo\">\n",
        "</center>\n",
        "\n",
        "# Dictionaries in Python\n",
        "\n",
        "Estimated time needed: **30** minutes\n",
        "\n",
        "## Objectives\n",
        "\n",
        "After completing this lab you will be able to:\n",
        "\n",
        "*  Create a Dictionary and perform operations on the Dictionary\n"
      ]
    },
    {
      "cell_type": "markdown",
      "metadata": {
        "id": "fdc655f6-49e5-4bad-9539-e9179bba23d1"
      },
      "source": [
        "<h2>Table of Contents</h2>\n",
        "<div class=\"alert alert-block alert-info\" style=\"margin-top: 20px\">\n",
        "    <ul>\n",
        "        <li>\n",
        "            <a href=\"#dic\">Dictionaries</a>\n",
        "            <ul>\n",
        "                <li><a href=\"#content\">What are Dictionaries?</a></li>\n",
        "                <li><a href=\"#keys\">Keys</a></li>\n",
        "            </ul>\n",
        "        </li>\n",
        "        <li>\n",
        "            <a href=\"#quiz\">Quiz on Dictionaries</a>\n",
        "        </li>\n",
        "        <li>\n",
        "            <a href=\"#Scenario\">Scenario</a>\n",
        "        </li>\n",
        "    </ul>\n",
        "\n",
        "</div>\n",
        "\n",
        "<hr>\n"
      ]
    },
    {
      "cell_type": "markdown",
      "metadata": {
        "id": "ab5c0239-b3b7-4c75-a9ce-95a8357181e1"
      },
      "source": [
        "<a id=\"dic\"></a>\n",
        "## Dictionaries\n"
      ]
    },
    {
      "cell_type": "markdown",
      "metadata": {
        "id": "01174068-5c15-406b-92e3-4036b60f1889"
      },
      "source": [
        "<a id=\"content\"></a>\n",
        "## What are Dictionaries?\n"
      ]
    },
    {
      "cell_type": "markdown",
      "metadata": {
        "id": "5eef0617-4c46-4a00-a7a0-b2372aeda80d"
      },
      "source": [
        "A dictionary consists of keys and values. It is helpful to compare a dictionary to a list. Instead of being indexed numerically like a list, dictionaries have keys. These keys are the keys that are used to access values within a dictionary.   \n",
        "\n",
        "\n",
        "The best example of a dictionary can be accessing person's detais using the **social security number**.   \n",
        "Here the social security number which is a unique number will be the **key** and the details of the people will be the **values** associated with it.\n"
      ]
    },
    {
      "cell_type": "markdown",
      "metadata": {
        "id": "9afe8ad3-e654-4718-b54d-509691f62e79"
      },
      "source": [
        "<img src=\"https://cf-courses-data.s3.us.cloud-object-storage.appdomain.cloud/IBMDeveloperSkillsNetwork-PY0101EN-SkillsNetwork/labs/Module%202/images/DictsList.png\" width=\"650\">\n"
      ]
    },
    {
      "cell_type": "markdown",
      "metadata": {
        "id": "2aed4e2d-8461-43e3-b669-87141a83018a"
      },
      "source": [
        "### Create a Dictionary and access the elements\n"
      ]
    },
    {
      "cell_type": "markdown",
      "metadata": {
        "id": "9beb3267-af77-4421-8ed3-7bbcc90e3dce"
      },
      "source": [
        "An example of a Dictionary <code>Dict</code>:\n",
        "Here we are creating a dictionary named **Dict** with he following details\n",
        "\n",
        "* Keys are **key1, key2, key3, key4, key5**.\n",
        "* Values are {1,2,[3,3,3],(4,4,4),5,(0,1):6} corresponding to the keys\n"
      ]
    },
    {
      "cell_type": "code",
      "metadata": {
        "colab": {
          "base_uri": "https://localhost:8080/"
        },
        "id": "8e96c417-a3ea-4bad-aaa3-76afc5a7cf1c",
        "outputId": "aa719e79-ee3b-494d-e4b2-8a89cedfb394"
      },
      "outputs": [
        {
          "output_type": "execute_result",
          "data": {
            "text/plain": [
              "{'key1': 1,\n",
              " 'key2': '2',\n",
              " 'key3': [3, 3, 3],\n",
              " 'key4': (4, 4, 4),\n",
              " 'key5': 5,\n",
              " (0, 1): 6}"
            ]
          },
          "metadata": {},
          "execution_count": 1
        }
      ],
      "source": [
        "# Create the dictionary\n",
        "\n",
        "Dict = {\"key1\": 1, \"key2\": \"2\", \"key3\": [3, 3, 3], \"key4\": (4, 4, 4), ('key5'): 5, (0, 1): 6}\n",
        "Dict"
      ],
      "execution_count": 1
    },
    {
      "cell_type": "markdown",
      "metadata": {
        "id": "45a147d8-3b65-436c-85c6-bf2b0735c2b0"
      },
      "source": [
        "The keys can be strings:\n"
      ]
    },
    {
      "cell_type": "code",
      "metadata": {
        "colab": {
          "base_uri": "https://localhost:8080/"
        },
        "id": "330ce0dc-db96-4383-ba73-d7d71e81f02e",
        "outputId": "fce9330f-721a-490d-a88c-482a5326dcea"
      },
      "outputs": [
        {
          "output_type": "execute_result",
          "data": {
            "text/plain": [
              "1"
            ]
          },
          "metadata": {},
          "execution_count": 2
        }
      ],
      "source": [
        "# Access to the value by the key\n",
        "\n",
        "Dict[\"key1\"]"
      ],
      "execution_count": 2
    },
    {
      "cell_type": "markdown",
      "metadata": {
        "id": "71050e80-d88b-4265-8e52-dcb927b52403"
      },
      "source": [
        "Keys can also be any immutable object such as a tuple:\n"
      ]
    },
    {
      "cell_type": "code",
      "metadata": {
        "colab": {
          "base_uri": "https://localhost:8080/"
        },
        "id": "cd599a0e-8c3f-413b-af8e-e701748990b4",
        "outputId": "2f96c38c-e248-4cd6-d705-4cec5b86ceb7"
      },
      "outputs": [
        {
          "output_type": "execute_result",
          "data": {
            "text/plain": [
              "6"
            ]
          },
          "metadata": {},
          "execution_count": 3
        }
      ],
      "source": [
        "# Access to the value by the key\n",
        "\n",
        "Dict[(0, 1)]"
      ],
      "execution_count": 3
    },
    {
      "cell_type": "markdown",
      "metadata": {
        "id": "398c91b1-8bd8-4dc4-b548-6e21f08485af"
      },
      "source": [
        "Each key is separated from its value by a colon \"<code>:</code>\".  Commas separate the items, and the whole dictionary is enclosed in curly braces. An empty dictionary without any items is written with just two curly braces, like this  \"<code>{}</code>\".\n"
      ]
    },
    {
      "cell_type": "code",
      "metadata": {
        "colab": {
          "base_uri": "https://localhost:8080/"
        },
        "id": "c305365a-d96e-4367-ab88-aec3bcdfa8ec",
        "outputId": "9026d88c-fba6-46ed-fe7a-c7ce761fa053"
      },
      "outputs": [
        {
          "output_type": "execute_result",
          "data": {
            "text/plain": [
              "{'Thriller': '1982',\n",
              " 'Back in Black': '1980',\n",
              " 'The Dark Side of the Moon': '1973',\n",
              " 'The Bodyguard': '1992',\n",
              " 'Bat Out of Hell': '1977',\n",
              " 'Their Greatest Hits (1971-1975)': '1976',\n",
              " 'Saturday Night Fever': '1977',\n",
              " 'Rumours': '1977'}"
            ]
          },
          "metadata": {},
          "execution_count": 4
        }
      ],
      "source": [
        "# Create a sample dictionary\n",
        "\n",
        "release_year_dict = {\"Thriller\": \"1982\", \"Back in Black\": \"1980\", \\\n",
        "                    \"The Dark Side of the Moon\": \"1973\", \"The Bodyguard\": \"1992\", \\\n",
        "                    \"Bat Out of Hell\": \"1977\", \"Their Greatest Hits (1971-1975)\": \"1976\", \\\n",
        "                    \"Saturday Night Fever\": \"1977\", \"Rumours\": \"1977\"}\n",
        "release_year_dict"
      ],
      "execution_count": 4
    },
    {
      "cell_type": "markdown",
      "metadata": {
        "id": "adf9892c-de20-4db4-afa0-999ed1a2cc74"
      },
      "source": [
        "In summary, like a list, a dictionary holds a sequence of elements. Each element is represented by a key and its corresponding value. Dictionaries are created with two curly braces containing keys and values separated by a colon. For every key, there can only be one single value, however,  multiple keys can hold the same value. Keys can only be strings, numbers, or tuples, but values can be any data type.\n"
      ]
    },
    {
      "cell_type": "markdown",
      "metadata": {
        "id": "b6a2367f-5106-426a-ba59-5ac6a429b93d"
      },
      "source": [
        "It is helpful to visualize the dictionary as a table, as in the following image. The first column represents the keys, the second column represents the values.\n"
      ]
    },
    {
      "cell_type": "markdown",
      "metadata": {
        "id": "9f1a7e3d-601a-454d-914f-8c66ffd2c50b"
      },
      "source": [
        "<img src=\"https://cf-courses-data.s3.us.cloud-object-storage.appdomain.cloud/IBMDeveloperSkillsNetwork-PY0101EN-SkillsNetwork/labs/Module%202/images/DictsStructure.png\" width=\"650\">\n"
      ]
    },
    {
      "cell_type": "markdown",
      "metadata": {
        "id": "1a22fc01-7bd2-4dab-8123-7abdb0c70cbd"
      },
      "source": [
        "<a id=\"keys\"></a>\n",
        "## Keys\n"
      ]
    },
    {
      "cell_type": "markdown",
      "metadata": {
        "id": "5b17ff0c-2237-4a7d-9e8b-4e9926bd70fe"
      },
      "source": [
        "You can retrieve the values based on the names:\n"
      ]
    },
    {
      "cell_type": "code",
      "metadata": {
        "colab": {
          "base_uri": "https://localhost:8080/",
          "height": 35
        },
        "id": "c26ad8a7-26f5-4356-87aa-3005cbbb37a3",
        "outputId": "737413c3-0b29-4386-bb5d-202d9b09dca4"
      },
      "outputs": [
        {
          "output_type": "execute_result",
          "data": {
            "text/plain": [
              "'1982'"
            ],
            "application/vnd.google.colaboratory.intrinsic+json": {
              "type": "string"
            }
          },
          "metadata": {},
          "execution_count": 5
        }
      ],
      "source": [
        "# Get value by keys\n",
        "\n",
        "release_year_dict['Thriller']"
      ],
      "execution_count": 5
    },
    {
      "cell_type": "markdown",
      "metadata": {
        "id": "f43832f6-55f6-491b-956d-bd048d8613da"
      },
      "source": [
        "This corresponds to:\n"
      ]
    },
    {
      "cell_type": "markdown",
      "metadata": {
        "id": "a4182bcd-f7e4-400b-9cfa-1cb2f1519457"
      },
      "source": [
        "<img src=\"https://cf-courses-data.s3.us.cloud-object-storage.appdomain.cloud/IBMDeveloperSkillsNetwork-PY0101EN-SkillsNetwork/labs/Module%202/images/DictsKeyOne.png\" width=\"500\">\n"
      ]
    },
    {
      "cell_type": "markdown",
      "metadata": {
        "id": "5e17f999-6c2e-45d1-b9c7-3d8cda9b0359"
      },
      "source": [
        "Similarly for <b>The Bodyguard</b>\n"
      ]
    },
    {
      "cell_type": "code",
      "metadata": {
        "colab": {
          "base_uri": "https://localhost:8080/",
          "height": 35
        },
        "id": "311b650a-a984-44e0-b975-eddd7986ec1c",
        "outputId": "bd1bf7e8-f241-4e68-af0b-d01e6b39f8d6"
      },
      "outputs": [
        {
          "output_type": "execute_result",
          "data": {
            "text/plain": [
              "'1992'"
            ],
            "application/vnd.google.colaboratory.intrinsic+json": {
              "type": "string"
            }
          },
          "metadata": {},
          "execution_count": 6
        }
      ],
      "source": [
        "# Get value by key\n",
        "\n",
        "release_year_dict['The Bodyguard']"
      ],
      "execution_count": 6
    },
    {
      "cell_type": "markdown",
      "metadata": {
        "id": "f50653cc-3ac3-42d8-b07b-83843b7710a7"
      },
      "source": [
        "<img src=\"https://cf-courses-data.s3.us.cloud-object-storage.appdomain.cloud/IBMDeveloperSkillsNetwork-PY0101EN-SkillsNetwork/labs/Module%202/images/DictsKeyTwo.png\" width=\"500\">\n"
      ]
    },
    {
      "cell_type": "markdown",
      "metadata": {
        "id": "2776df45-a5f2-4943-9253-51fe40418778"
      },
      "source": [
        "Now let us retrieve the keys of the dictionary using the method <code>keys()</code>:\n"
      ]
    },
    {
      "cell_type": "code",
      "metadata": {
        "colab": {
          "base_uri": "https://localhost:8080/"
        },
        "id": "6637cebc-2490-4621-8760-2a9bf79e67b0",
        "outputId": "484ae7a6-2417-4e70-d081-ef02a1a243c8"
      },
      "outputs": [
        {
          "output_type": "execute_result",
          "data": {
            "text/plain": [
              "dict_keys(['Thriller', 'Back in Black', 'The Dark Side of the Moon', 'The Bodyguard', 'Bat Out of Hell', 'Their Greatest Hits (1971-1975)', 'Saturday Night Fever', 'Rumours'])"
            ]
          },
          "metadata": {},
          "execution_count": 7
        }
      ],
      "source": [
        "# Get all the keys in dictionary\n",
        "\n",
        "release_year_dict.keys()"
      ],
      "execution_count": 7
    },
    {
      "cell_type": "markdown",
      "metadata": {
        "id": "9b24a66e-e04b-4f72-acf0-b0a09ce217e0"
      },
      "source": [
        "You can retrieve the values using the method  <code>values()</code>:\n"
      ]
    },
    {
      "cell_type": "code",
      "metadata": {
        "colab": {
          "base_uri": "https://localhost:8080/"
        },
        "id": "ddcada66-ba59-4703-94ba-b21ffe882cc7",
        "outputId": "84742d21-619f-41b8-9b10-9c630253f7c8"
      },
      "outputs": [
        {
          "output_type": "execute_result",
          "data": {
            "text/plain": [
              "dict_values(['1982', '1980', '1973', '1992', '1977', '1976', '1977', '1977'])"
            ]
          },
          "metadata": {},
          "execution_count": 8
        }
      ],
      "source": [
        "# Get all the values in dictionary\n",
        "\n",
        "release_year_dict.values()"
      ],
      "execution_count": 8
    },
    {
      "cell_type": "markdown",
      "metadata": {
        "id": "71776028-275c-4961-9cf6-f33dca84a664"
      },
      "source": [
        "We can add an entry:\n"
      ]
    },
    {
      "cell_type": "code",
      "metadata": {
        "colab": {
          "base_uri": "https://localhost:8080/"
        },
        "id": "ba785296-0911-4531-8dca-5be324ee1eae",
        "outputId": "e949d6ea-2c23-4965-ba16-77bab250d008"
      },
      "outputs": [
        {
          "output_type": "execute_result",
          "data": {
            "text/plain": [
              "{'Thriller': '1982',\n",
              " 'Back in Black': '1980',\n",
              " 'The Dark Side of the Moon': '1973',\n",
              " 'The Bodyguard': '1992',\n",
              " 'Bat Out of Hell': '1977',\n",
              " 'Their Greatest Hits (1971-1975)': '1976',\n",
              " 'Saturday Night Fever': '1977',\n",
              " 'Rumours': '1977',\n",
              " 'Graduation': '2007'}"
            ]
          },
          "metadata": {},
          "execution_count": 9
        }
      ],
      "source": [
        "# Append value with key into dictionary\n",
        "\n",
        "release_year_dict['Graduation'] = '2007'\n",
        "release_year_dict"
      ],
      "execution_count": 9
    },
    {
      "cell_type": "markdown",
      "metadata": {
        "id": "6e69cbfb-bd67-42b6-b091-09cb60475965"
      },
      "source": [
        "We can delete an entry:\n"
      ]
    },
    {
      "cell_type": "code",
      "metadata": {
        "colab": {
          "base_uri": "https://localhost:8080/"
        },
        "id": "36a2fd8d-5d55-43e3-8ee8-25ec8e4c445a",
        "outputId": "a077b0db-0def-4cc4-fa0b-e80a1dc8453b"
      },
      "outputs": [
        {
          "output_type": "execute_result",
          "data": {
            "text/plain": [
              "{'Back in Black': '1980',\n",
              " 'The Dark Side of the Moon': '1973',\n",
              " 'The Bodyguard': '1992',\n",
              " 'Bat Out of Hell': '1977',\n",
              " 'Their Greatest Hits (1971-1975)': '1976',\n",
              " 'Saturday Night Fever': '1977',\n",
              " 'Rumours': '1977'}"
            ]
          },
          "metadata": {},
          "execution_count": 10
        }
      ],
      "source": [
        "# Delete entries by key\n",
        "\n",
        "del(release_year_dict['Thriller'])\n",
        "del(release_year_dict['Graduation'])\n",
        "release_year_dict"
      ],
      "execution_count": 10
    },
    {
      "cell_type": "markdown",
      "metadata": {
        "id": "d65be523-0efd-40d3-b135-324095680351"
      },
      "source": [
        "We can verify if an element is in the dictionary:\n"
      ]
    },
    {
      "cell_type": "code",
      "metadata": {
        "colab": {
          "base_uri": "https://localhost:8080/"
        },
        "id": "edfa2ff6-19dc-4ab2-a289-f9d0090258f3",
        "outputId": "c794e90a-20cb-4110-91b8-b706819925c5"
      },
      "outputs": [
        {
          "output_type": "execute_result",
          "data": {
            "text/plain": [
              "True"
            ]
          },
          "metadata": {},
          "execution_count": 11
        }
      ],
      "source": [
        "# Verify the key is in the dictionary\n",
        "\n",
        "'The Bodyguard' in release_year_dict"
      ],
      "execution_count": 11
    },
    {
      "cell_type": "markdown",
      "metadata": {
        "id": "1629edd1-2a67-4df1-a0b5-03cff67cc6d3"
      },
      "source": [
        "<hr>\n"
      ]
    },
    {
      "cell_type": "markdown",
      "metadata": {
        "id": "c7dde7d7-9bae-4c3e-b17d-682cc1b9b3b7"
      },
      "source": [
        "<a id=\"quiz\"></a>\n",
        "## Quiz on Dictionaries\n"
      ]
    },
    {
      "cell_type": "markdown",
      "metadata": {
        "id": "7597f95e-c5e8-4741-aa3d-fe5e7d4a579b"
      },
      "source": [
        "<b>You will need this dictionary for the next two questions:</b>\n"
      ]
    },
    {
      "cell_type": "code",
      "metadata": {
        "colab": {
          "base_uri": "https://localhost:8080/"
        },
        "id": "30e690df-e742-4bd1-9d26-b74ad77d7961",
        "outputId": "bf0d242e-d038-4204-e37a-cac0d1c04def"
      },
      "outputs": [
        {
          "output_type": "execute_result",
          "data": {
            "text/plain": [
              "{'The Bodyguard': '1992', 'Saturday Night Fever': '1977'}"
            ]
          },
          "metadata": {},
          "execution_count": 12
        }
      ],
      "source": [
        "# Question sample dictionary\n",
        "\n",
        "soundtrack_dic = {\"The Bodyguard\":\"1992\", \"Saturday Night Fever\":\"1977\"}\n",
        "soundtrack_dic"
      ],
      "execution_count": 12
    },
    {
      "cell_type": "markdown",
      "metadata": {
        "id": "4ac480a3-4ef2-452a-8096-286911a0d072"
      },
      "source": [
        "a) In the dictionary <code>soundtrack_dic</code> what are the keys ?\n"
      ]
    },
    {
      "cell_type": "code",
      "metadata": {
        "colab": {
          "base_uri": "https://localhost:8080/"
        },
        "id": "f6543094-3b31-4e9d-a6ec-a0449ab942c8",
        "outputId": "2ec2cab8-d8af-4b64-f993-36b869a3837e"
      },
      "outputs": [
        {
          "output_type": "execute_result",
          "data": {
            "text/plain": [
              "dict_keys(['The Bodyguard', 'Saturday Night Fever'])"
            ]
          },
          "metadata": {},
          "execution_count": 27
        }
      ],
      "source": [
        "# Write your code below and press Shift+Enter to execute\n",
        "soundtrack_dic.keys()"
      ],
      "execution_count": 27
    },
    {
      "cell_type": "markdown",
      "metadata": {
        "id": "01c0f610-5b4b-40f1-969b-99189473e8c0"
      },
      "source": [
        "<details><summary>Click here for the solution</summary>\n",
        "\n",
        "```python\n",
        "soundtrack_dic.keys() # The Keys \"The Bodyguard\" and \"Saturday Night Fever\"\n",
        "\n",
        "```\n",
        "\n",
        "</details>\n"
      ]
    },
    {
      "cell_type": "markdown",
      "metadata": {
        "id": "45176e31-175e-458c-91f8-b675f6fa9fd9"
      },
      "source": [
        "b) In the dictionary <code>soundtrack_dic</code> what are the values ?\n"
      ]
    },
    {
      "cell_type": "code",
      "metadata": {
        "colab": {
          "base_uri": "https://localhost:8080/"
        },
        "id": "061c5bc3-8dc3-402b-8282-7c00e55d712f",
        "outputId": "adfc73fe-8fda-4381-983b-1293114acead"
      },
      "outputs": [
        {
          "output_type": "execute_result",
          "data": {
            "text/plain": [
              "dict_values(['1992', '1977'])"
            ]
          },
          "metadata": {},
          "execution_count": 28
        }
      ],
      "source": [
        "# Write your code below and press Shift+Enter to execute\n",
        "soundtrack_dic.values()"
      ],
      "execution_count": 28
    },
    {
      "cell_type": "markdown",
      "metadata": {
        "id": "5e0a6d07-54eb-4466-b023-7fc52cff9183"
      },
      "source": [
        "<details><summary>Click here for the solution</summary>\n",
        "\n",
        "```python\n",
        "soundtrack_dic.values() # The values are \"1992\" and \"1977\"\n",
        "\n",
        "```\n",
        "\n",
        "</details>\n"
      ]
    },
    {
      "cell_type": "markdown",
      "metadata": {
        "id": "3df74c48-c861-41c6-9c65-483140685b9e"
      },
      "source": [
        "<hr>\n"
      ]
    },
    {
      "cell_type": "markdown",
      "metadata": {
        "id": "af9e1893-9655-4349-a35c-5480a9c2b8af"
      },
      "source": [
        "<b>You will need this dictionary for the following questions:</b>\n"
      ]
    },
    {
      "cell_type": "markdown",
      "metadata": {
        "id": "22504ab9-59b4-4596-a929-0db332a46472"
      },
      "source": [
        "The Albums <b>Back in Black</b>, <b>The Bodyguard</b> and <b>Thriller</b> have the following music recording sales in millions 50, 50 and 65 respectively:\n"
      ]
    },
    {
      "cell_type": "markdown",
      "metadata": {
        "id": "91937218-2d6d-434b-8f24-cd823b0514b8"
      },
      "source": [
        "a) Create a dictionary <code>album_sales_dict</code> where the keys are the album name and the sales in millions are the values.\n"
      ]
    },
    {
      "cell_type": "code",
      "metadata": {
        "id": "d65526c4-4906-43ef-9a6d-89cd9bdb9f80"
      },
      "outputs": [],
      "source": [
        "# Write your code below and press Shift+Enter to execute\n",
        "album_sales_dict = {\"The Bodyguard\":50, \"Back in Black\":50, \"Thriller\":65}"
      ],
      "execution_count": 29
    },
    {
      "cell_type": "markdown",
      "metadata": {
        "id": "898666c5-2f65-4de9-8861-de151c5cdeb2"
      },
      "source": [
        "<details><summary>Click here for the solution</summary>\n",
        "\n",
        "```python\n",
        "album_sales_dict = {\"The Bodyguard\":50, \"Back in Black\":50, \"Thriller\":65}\n",
        "\n",
        "```\n",
        "\n",
        "</details>\n"
      ]
    },
    {
      "cell_type": "markdown",
      "metadata": {
        "id": "38685f2d-3fdd-4f1f-9c36-dc47147fb0ee"
      },
      "source": [
        "b) Use the dictionary to find the total sales of <b>Thriller</b>:\n"
      ]
    },
    {
      "cell_type": "code",
      "metadata": {
        "colab": {
          "base_uri": "https://localhost:8080/"
        },
        "id": "aa3bda90-f1eb-4575-bad6-d5cee046c690",
        "outputId": "43294cb3-9214-4e3b-91b6-7859e3ea86ba"
      },
      "outputs": [
        {
          "output_type": "execute_result",
          "data": {
            "text/plain": [
              "65"
            ]
          },
          "metadata": {},
          "execution_count": 30
        }
      ],
      "source": [
        "# Write your code below and press Shift+Enter to execute\n",
        "album_sales_dict[\"Thriller\"]"
      ],
      "execution_count": 30
    },
    {
      "cell_type": "markdown",
      "metadata": {
        "id": "17ca1164-63c7-46b3-a1b2-79a4a8a4d5cf"
      },
      "source": [
        "<details><summary>Click here for the solution</summary>\n",
        "\n",
        "```python\n",
        "album_sales_dict[\"Thriller\"]\n",
        "\n",
        "```\n",
        "\n",
        "</details>\n"
      ]
    },
    {
      "cell_type": "markdown",
      "metadata": {
        "id": "a9773083-71a4-4a61-af93-f43db87c70b5"
      },
      "source": [
        "c) Find the names of the albums from the dictionary using the method <code>keys()</code>:\n"
      ]
    },
    {
      "cell_type": "code",
      "metadata": {
        "colab": {
          "base_uri": "https://localhost:8080/"
        },
        "id": "097353ab-56b4-4df4-9d45-03a09e260753",
        "outputId": "bd74b774-b606-4c19-dad9-543b0ac02006"
      },
      "outputs": [
        {
          "output_type": "execute_result",
          "data": {
            "text/plain": [
              "dict_keys(['The Bodyguard', 'Back in Black', 'Thriller'])"
            ]
          },
          "metadata": {},
          "execution_count": 31
        }
      ],
      "source": [
        "# Write your code below and press Shift+Enter to execute\n",
        "album_sales_dict.keys()"
      ],
      "execution_count": 31
    },
    {
      "cell_type": "markdown",
      "metadata": {
        "id": "5c37008a-ced1-4163-a4b7-9ed7aa3803cb"
      },
      "source": [
        "<details><summary>Click here for the solution</summary>\n",
        "\n",
        "```python\n",
        "album_sales_dict.keys()\n",
        "\n",
        "```\n",
        "\n",
        "</details>\n"
      ]
    },
    {
      "cell_type": "markdown",
      "metadata": {
        "id": "76c5d263-0bff-44b6-9c2c-4b08e529acae"
      },
      "source": [
        "d) Find the values of the recording sales from the dictionary using the method <code>values</code>:\n"
      ]
    },
    {
      "cell_type": "code",
      "metadata": {
        "colab": {
          "base_uri": "https://localhost:8080/"
        },
        "id": "c7821277-3d82-44b0-9c31-f67e2fad6dc1",
        "outputId": "67b6a359-5ba1-4191-e917-62360ec16373"
      },
      "outputs": [
        {
          "output_type": "execute_result",
          "data": {
            "text/plain": [
              "dict_values([50, 50, 65])"
            ]
          },
          "metadata": {},
          "execution_count": 32
        }
      ],
      "source": [
        "# Write your code below and press Shift+Enter to execute\n",
        "album_sales_dict.values()"
      ],
      "execution_count": 32
    },
    {
      "cell_type": "markdown",
      "metadata": {
        "id": "b844fb4d-5cda-49c7-824f-5d75b8e52804"
      },
      "source": [
        "<details><summary>Click here for the solution</summary>\n",
        "\n",
        "```python\n",
        "album_sales_dict.values()\n",
        "\n",
        "```\n",
        "\n",
        "</details>\n"
      ]
    },
    {
      "cell_type": "markdown",
      "metadata": {
        "id": "1926ea76-4517-4f2c-a259-c7df013c6980"
      },
      "source": [
        "<a id=\"Scenario\"></a>\n",
        "## Scenario:Inventory Store\n",
        "    \n"
      ]
    },
    {
      "cell_type": "markdown",
      "metadata": {
        "id": "0f40c4e4-58a4-4ba7-8379-6a8c552cfd63"
      },
      "source": [
        "The inventory store scenario project utilizes a dictionary-based approach to develop a robust system for managing and tracking inventory in a retail store.\n",
        "<br>\n",
        "**Note:- You will be working with two product details.**\n"
      ]
    },
    {
      "cell_type": "markdown",
      "metadata": {
        "id": "725113a0-f75e-4d59-a8dd-6ddd7db51019"
      },
      "source": [
        "## Task-1 Create an empty dictionary\n"
      ]
    },
    {
      "cell_type": "markdown",
      "metadata": {
        "id": "88a22858-a9f4-4ef6-8f5c-8c45f08e76e4"
      },
      "source": [
        "\n",
        "First you need to create an empty dictionary, where you will be storing the product details.\n"
      ]
    },
    {
      "cell_type": "code",
      "metadata": {
        "id": "a8c88dbd-b5f4-4113-a620-bfbbf525e709"
      },
      "outputs": [],
      "source": [
        "#Type your code here\n",
        "inventory = {}"
      ],
      "execution_count": 34
    },
    {
      "cell_type": "markdown",
      "metadata": {
        "id": "55bcba42-f1e2-4e27-b3dc-268119d44fd0"
      },
      "source": [
        "<details> <summary>Click here for the solution</summary>\n",
        "\n",
        "```python\n",
        "\n",
        "inventory ={}\n",
        "\n",
        "```\n",
        "\n",
        "</details>\n"
      ]
    },
    {
      "cell_type": "markdown",
      "metadata": {
        "id": "cac35e00-035a-4a82-98cd-2e715c0cc7f0"
      },
      "source": [
        "## Task-2 Store the first product details in variable\n",
        "* Product Name= Mobile phone\n",
        "* Product Quantity= 5\n",
        "* Product price= 20000\n",
        "* Product Release Year= 2020\n"
      ]
    },
    {
      "cell_type": "code",
      "metadata": {
        "id": "33e79036-13f0-4627-82a5-4630c0381e77"
      },
      "outputs": [],
      "source": [
        "#type your code here\n",
        "ProductNo1 = \"Mobile Phone\"\n",
        "ProductNo1_quantity = 5\n",
        "ProductNo1_price = 20000\n",
        "ProductNo1_releaseYear = 2020"
      ],
      "execution_count": 35
    },
    {
      "cell_type": "markdown",
      "metadata": {
        "id": "02e3f420-3fce-492c-9d3d-1951d2e52298"
      },
      "source": [
        "<details> <summary>Click here for the solution</summary>\n",
        "\n",
        "```python\n",
        "ProductNo1 = \"Mobile Phone\"\n",
        "ProductNo1_quantity = 5\n",
        "ProductNo1_price = 20000\n",
        "ProductNo1_releaseYear= 2020\n",
        "```\n",
        "\n",
        "</details>\n"
      ]
    },
    {
      "cell_type": "markdown",
      "metadata": {
        "id": "5c599c59-6232-4bf8-89f1-2ada9b41afd5"
      },
      "source": [
        "## Task-3 Add the details in inventory\n"
      ]
    },
    {
      "cell_type": "code",
      "metadata": {
        "id": "e992211d-5b58-4803-a650-bbc7f54fe1df"
      },
      "outputs": [],
      "source": [
        "#Type your code here\n",
        "inventory[\"ProductNo1\"] = ProductNo1\n",
        "inventory[\"ProductNo1_quantity\"] = ProductNo1_quantity\n",
        "inventory[\"ProductNo1_price\"] = ProductNo1_price\n",
        "inventory[\"ProductNo1_releaseYear\"] = ProductNo1_releaseYear"
      ],
      "execution_count": 36
    },
    {
      "cell_type": "markdown",
      "metadata": {
        "id": "14aa0b9c-25a0-4aac-b05e-098488ec554a"
      },
      "source": [
        "<details> <summary>Click here for the solution</summary>\n",
        "\n",
        "```python\n",
        "\n",
        "inventory[\"ProductNo1\"]= ProductNo1\n",
        "inventory[\"ProductNo1_quantity\"]= ProductNo1_quantity\n",
        "inventory[\"ProductNo1_price\"]= ProductNo1_price\n",
        "inventory[\"ProductNo1_releaseYear\"]=ProductNo1_releaseYear\n",
        "\n",
        "```\n",
        "\n",
        "</details>\n"
      ]
    },
    {
      "cell_type": "markdown",
      "metadata": {
        "id": "9966fd1d-d77b-494f-9bdb-e845268fc9b7"
      },
      "source": [
        "## Task-4 Store the second product details in a variable.\n",
        "* Product Name= \"Laptop\"\n",
        "* Product Quantity= 10\n",
        "* Product price = 50000\n",
        "* Product Release Year= 2023\n"
      ]
    },
    {
      "cell_type": "code",
      "metadata": {
        "id": "16c2d75a-3399-40ec-8d97-59e74c5945f2"
      },
      "outputs": [],
      "source": [
        "#type your code here\n",
        "ProductNo2 = \"Laptop\"\n",
        "ProductNo2_quantity = 10\n",
        "ProductNo2_price = 50000\n",
        "ProductNo2_releaseYear = 2023"
      ],
      "execution_count": 37
    },
    {
      "cell_type": "markdown",
      "metadata": {
        "id": "2d4e6595-763e-48b2-af94-f75947a4cc29"
      },
      "source": [
        "<details> <summary>Click here for the solution</summary>\n",
        "\n",
        "```python\n",
        "\n",
        "ProductNo2 = \"Laptop\"\n",
        "ProductNo2_quantity = 10\n",
        "ProductNo2_price = 50000\n",
        "ProductNo2_releaseYear= 2023\n",
        "\n",
        "```\n",
        "\n",
        "</details>\n"
      ]
    },
    {
      "cell_type": "markdown",
      "metadata": {
        "id": "684c1ae3-10cb-4aac-a306-f85a1ee17250"
      },
      "source": [
        "## Task-5 Add the item detail into the inventory.\n"
      ]
    },
    {
      "cell_type": "code",
      "metadata": {
        "id": "1b708ba8-8c9e-43f5-a0b8-320aa3c1b4c3"
      },
      "outputs": [],
      "source": [
        "#type your code here\n",
        "inventory[\"ProductNo2\"] = ProductNo2\n",
        "inventory[\"ProductNo2_quantity\"] = ProductNo2_quantity\n",
        "inventory[\"ProductNo2_price\"]= ProductNo2_price\n",
        "inventory[\"ProductNo2_releaseYear\"] = ProductNo2_releaseYear"
      ],
      "execution_count": 38
    },
    {
      "cell_type": "markdown",
      "metadata": {
        "id": "97079dd4-2cc1-4a0c-aaa8-f2651241ed13"
      },
      "source": [
        "<details> <summary>Click here for the solution</summary>\n",
        "\n",
        "```python\n",
        "\n",
        "inventory[\"ProductNo2\"]= ProductNo2\n",
        "inventory[\"ProductNo2_quantity\"]= ProductNo2_quantity\n",
        "inventory[\"ProductNo2_price\"]= ProductNo2_price\n",
        "inventory[\"ProductNo2_releaseYear\"]=ProductNo2_releaseYear\n",
        "\n",
        "```\n",
        "\n",
        "</details>\n"
      ]
    },
    {
      "cell_type": "markdown",
      "metadata": {
        "id": "3273d849-b1db-41ce-9420-8f4d9c505b75"
      },
      "source": [
        "## Task-6 Display the Products present in the inventory\n"
      ]
    },
    {
      "cell_type": "markdown",
      "metadata": {
        "id": "6fa90feb-34b8-450e-acd3-b70d0a607360"
      },
      "source": [
        "Use print statement for displaying the products\n"
      ]
    },
    {
      "cell_type": "code",
      "metadata": {
        "colab": {
          "base_uri": "https://localhost:8080/"
        },
        "id": "0d0e2eea-92f7-46c2-9b69-5a6cb471e837",
        "outputId": "f2c1aea5-690a-49fb-dad4-0530d395ce3f"
      },
      "outputs": [
        {
          "output_type": "stream",
          "name": "stdout",
          "text": [
            "{'ProductNo1': 'Mobile Phone', 'ProductNo1_quantity': 5, 'ProductNo1_price': 20000, 'ProductNo1_releaseYear': 2020, 'ProductNo2': 'Laptop', 'ProductNo2_quantity': 10, 'ProductNo2_price': 50000, 'ProductNo2_releaseYear': 2023}\n"
          ]
        }
      ],
      "source": [
        "#type your code here\n",
        "print(inventory)"
      ],
      "execution_count": 39
    },
    {
      "cell_type": "markdown",
      "metadata": {
        "id": "e6a0af57-8dee-4f7d-a463-58f598af235a"
      },
      "source": [
        "<details> <summary>Click here for the solution</summary>\n",
        "\n",
        "```python\n",
        "\n",
        "print(inventory)\n",
        "\n",
        "```\n",
        "\n",
        "</details>\n"
      ]
    },
    {
      "cell_type": "markdown",
      "metadata": {
        "id": "c903b750-ca6d-4d32-b75a-cbed417df116"
      },
      "source": [
        "## Task-7 Check if `ProductNo1_releaseYear` and `ProductNo2_releaseYear` is in the inventory\n"
      ]
    },
    {
      "cell_type": "code",
      "metadata": {
        "colab": {
          "base_uri": "https://localhost:8080/"
        },
        "id": "2b6bc82e-7ac1-49a8-ad46-22de06edad9a",
        "outputId": "bdf1b98d-6096-45a4-fcd4-299d29f860ac"
      },
      "outputs": [
        {
          "output_type": "execute_result",
          "data": {
            "text/plain": [
              "True"
            ]
          },
          "metadata": {},
          "execution_count": 40
        }
      ],
      "source": [
        "#Type your code here\n",
        "\"ProductNo1_releaseYear\" in inventory\n",
        "\"ProductNo2_releaseYear\" in inventory"
      ],
      "execution_count": 40
    },
    {
      "cell_type": "markdown",
      "metadata": {
        "id": "916e9906-48db-42d9-9e2d-89e4afbf026c"
      },
      "source": [
        "<details> <summary>Click here for the solution</summary>\n",
        "\n",
        "```python\n",
        "\n",
        "\"ProductNo1_releaseYear\" in inventory\n",
        "\"ProductNo2_releaseYear\" in inventory\n",
        "\n",
        "```\n",
        "\n",
        "</details>\n"
      ]
    },
    {
      "cell_type": "markdown",
      "metadata": {
        "id": "d7cfdfb5-133f-4817-8b38-46930cac254c"
      },
      "source": [
        "**As in inventory `Release year` is not required, let's delete it.**\n"
      ]
    },
    {
      "cell_type": "markdown",
      "metadata": {
        "id": "6ba1457d-3e01-4d79-92fa-645a1299e55a"
      },
      "source": [
        "## Task-8 Delete release year of both the products from the inventory\n"
      ]
    },
    {
      "cell_type": "code",
      "metadata": {
        "id": "9433de28-b32b-442d-bcca-4d50f85feb99"
      },
      "outputs": [],
      "source": [
        "#Type your code here\n",
        "del(inventory[\"ProductNo1_releaseYear\"])\n",
        "del(inventory[\"ProductNo2_releaseYear\"])"
      ],
      "execution_count": 41
    },
    {
      "cell_type": "markdown",
      "metadata": {
        "id": "a3ea1042-5bb0-4f18-8da4-5f85f8e40932"
      },
      "source": [
        "\n",
        "<details> <summary>Click here for the solution</summary>\n",
        "\n",
        "```python\n",
        "\n",
        "del(inventory[\"ProductNo1_releaseYear\"])\n",
        "del(inventory[\"ProductNo2_releaseYear\"])\n",
        "\n",
        "```\n",
        "\n",
        "</details>\n"
      ]
    },
    {
      "cell_type": "markdown",
      "metadata": {
        "id": "43eacfea-07ad-477d-9467-4c82dfac39bb"
      },
      "source": [
        "<hr>\n",
        "<h2>The last exercise!</h2>\n",
        "<p>Congratulations, you have completed your first lesson and hands-on lab in Python.\n",
        "<hr>\n"
      ]
    },
    {
      "cell_type": "markdown",
      "metadata": {
        "id": "8245c82f-18b8-4795-a12d-e51083024a7c"
      },
      "source": [
        "## Author\n",
        "\n",
        "<a href=\"https://www.linkedin.com/in/joseph-s-50398b136/?utm_medium=Exinfluencer&utm_source=Exinfluencer&utm_content=000026UJ&utm_term=10006555&utm_id=NA-SkillsNetwork-Channel-SkillsNetworkCoursesIBMDeveloperSkillsNetworkPY0101ENSkillsNetwork19487395-2021-01-01\" target=\"_blank\">Joseph Santarcangelo</a>\n",
        "\n",
        "## Other contributors\n",
        "\n",
        "<a href=\"https://www.linkedin.com/in/jiahui-mavis-zhou-a4537814a?utm_medium=Exinfluencer&utm_source=Exinfluencer&utm_content=000026UJ&utm_term=10006555&utm_id=NA-SkillsNetwork-Channel-SkillsNetworkCoursesIBMDeveloperSkillsNetworkPY0101ENSkillsNetwork19487395-2021-01-01\">Mavis Zhou</a>\n",
        "\n",
        "## Change Log\n",
        "\n",
        "| Date (YYYY-MM-DD) | Version | Changed By    | Change Description                                                  |\n",
        "| ----------------- | ------- | ------------- | ------------------------------------------------------------------- |\n",
        "| 2023-05-11        |  2.3    | Akansha yadav | Updated lab with scenario                                           |\n",
        "|  2022-01-10        | 2.2     | Malika Singla | Removed the readme for GitShare                                     |\n",
        "| 2020-09-09        | 2.1     | Malika Singla | Updated the variable soundtrack_dict to soundtrack_dic in Questions |\n",
        "| 2020-08-26        | 2.0     | Lavanya       | Moved lab to course repo in GitLab                                  |\n",
        "|                   |         |               |                                                                     |\n",
        "|                   |         |               |                                                                     |\n",
        "\n",
        "## <h3 align=\"center\"> © IBM Corporation 2020. All rights reserved. <h3/>\n"
      ]
    }
  ],
  "metadata": {
    "language_info": {
      "codemirror_mode": {
        "name": "python",
        "version": 3
      },
      "file_extension": ".py",
      "mimetype": "text/x-python",
      "name": "python",
      "nbconvert_exporter": "python",
      "pygments_lexer": "ipython3",
      "version": "3.8"
    },
    "kernelspec": {
      "name": "python",
      "display_name": "Pyolite",
      "language": "python"
    },
    "colab": {
      "provenance": []
    }
  },
  "nbformat": 4,
  "nbformat_minor": 0
}